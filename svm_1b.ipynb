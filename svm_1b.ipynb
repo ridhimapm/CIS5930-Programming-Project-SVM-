{
  "nbformat": 4,
  "nbformat_minor": 0,
  "metadata": {
    "colab": {
      "name": "svm_1b",
      "provenance": [],
      "collapsed_sections": [],
      "authorship_tag": "ABX9TyMVPiK2PH3PGNvniH6jQrHB",
      "include_colab_link": true
    },
    "kernelspec": {
      "name": "python3",
      "display_name": "Python 3"
    },
    "language_info": {
      "name": "python"
    }
  },
  "cells": [
    {
      "cell_type": "markdown",
      "metadata": {
        "id": "view-in-github",
        "colab_type": "text"
      },
      "source": [
        "<a href=\"https://colab.research.google.com/github/ridhimapm/CIS5930-Programming-Project-SVM-/blob/main/svm_1b.ipynb\" target=\"_parent\"><img src=\"https://colab.research.google.com/assets/colab-badge.svg\" alt=\"Open In Colab\"/></a>"
      ]
    },
    {
      "cell_type": "markdown",
      "metadata": {
        "id": "_NrwiqnzI_wM"
      },
      "source": [
        "This is Question 1b.\n",
        "Running the Implementation on random data generated in the following way: For class A which corresponds to +1, generate 200 points, where according to a two dimensional gaussian with mean (-1,-1) and covariance matrix of (1,0.25) and (0.25,1) For class B, that corresponds to -1, generate 200 points using same distribution. The mean in this case will be (1,1) Seed the random number generator with The last 5 digits of FSU lib# : 47405"
      ]
    },
    {
      "cell_type": "code",
      "metadata": {
        "id": "jFb6sW7uHHtQ"
      },
      "source": [
        "#Importing necessary libraries\n",
        "import numpy as np\n",
        "from numpy import linalg\n",
        "import cvxopt\n",
        "import cvxopt.solvers\n",
        "import random\n",
        "from sklearn.model_selection import LeaveOneOut"
      ],
      "execution_count": 3,
      "outputs": []
    },
    {
      "cell_type": "code",
      "metadata": {
        "id": "Op8t6fGqHHvw"
      },
      "source": [
        "# linear kernel is the original form of the kernel.\n",
        "def linear_kernel(x1, x2):\n",
        "  return np.dot(x1, x2)\n",
        "\n",
        "def polynomial_kernel(x, y, p=3):\n",
        "  return (1 + np.dot(x, y)) ** p\n",
        "  \n",
        "def gaussian_kernel(x, y, sigma=5.0):\n",
        "  return np.exp(-linalg.norm(x-y)**2 / (2 * (sigma ** 2)))"
      ],
      "execution_count": 4,
      "outputs": []
    },
    {
      "cell_type": "code",
      "metadata": {
        "id": "kpMGsn6rHHyQ"
      },
      "source": [
        "#Starting with the SVM Object.\n",
        "class SVM(object):\n",
        "  #the initialization method just simply sets the kernel, sets C's default to NONE, when C is set to NONE it's a hard margin SVM\n",
        "  #But we want to implement a SOFT-MARGIN SVM, for that we need to set C to some value, \n",
        "  #we set C to something we want our penalty parameter to be\n",
        "  def __init__(self, kernel=linear_kernel, C=0.01):\n",
        "    self.kernel = kernel\n",
        "    self.C = C\n",
        "    if self.C is not None: self.C = float(self.C)\n",
        "\n",
        "  def fit(self, X, y):\n",
        "    n_samples, n_features = X.shape\n",
        "\n",
        "    # Gram matrix (creates all the values for the quadratic programming solver)\n",
        "    K = np.zeros((n_samples, n_samples))\n",
        "    for i in range(n_samples):\n",
        "      for j in range(n_samples):\n",
        "        K[i,j] = self.kernel(X[i], X[j])\n",
        "\n",
        "    P = cvxopt.matrix(np.outer(y,y) * K)  \n",
        "    q = cvxopt.matrix(np.ones(n_samples) * -1)\n",
        "    A = cvxopt.matrix(y, (1,n_samples))\n",
        "    b = cvxopt.matrix(0.0)\n",
        "\n",
        "    if self.C is None:\n",
        "      G = cvxopt.matrix(np.diag(np.ones(n_samples) * -1))\n",
        "      h = cvxopt.matrix(np.zeros(n_samples))\n",
        "\n",
        "    else:\n",
        "      tmp1 = np.diag(np.ones(n_samples) * -1)\n",
        "      tmp2 = np.identity(n_samples)\n",
        "      G = cvxopt.matrix(np.vstack((tmp1, tmp2)))\n",
        "      tmp1 = np.zeros(n_samples)\n",
        "      tmp2 = np.ones(n_samples) * self.C\n",
        "      h = cvxopt.matrix(np.hstack((tmp1, tmp2)))\n",
        "\n",
        "      # solve QP problem\n",
        "      solution = cvxopt.solvers.qp(P, q, G, h, A, b)\n",
        "      \n",
        "      # Lagrange multipliers\n",
        "      a = np.ravel(solution['x'])  \n",
        "\n",
        "      # Support vectors have non zero lagrange multipliers\n",
        "      sv = a > 1e-5\n",
        "      ind = np.arange(len(a))[sv]\n",
        "      self.a = a[sv]\n",
        "      self.sv = X[sv]\n",
        "      self.sv_y = y[sv]\n",
        "      print('{0} support vectors out of {1} points'.format(len(self.a), n_samples))\n",
        "\n",
        "\n",
        "      # Intercept\n",
        "      self.b = 0\n",
        "      for n in range(len(self.a)):\n",
        "        self.b += self.sv_y[n]\n",
        "        self.b -= np.sum(self.a * self.sv_y * K[ind[n],sv])\n",
        "      self.b /= len(self.a)\n",
        "\n",
        "      # Weight vector\n",
        "      if self.kernel == linear_kernel:\n",
        "          self.w = np.zeros(n_features)\n",
        "          for n in range(len(self.a)):\n",
        "            self.w += self.a[n] * self.sv_y[n] * self.sv[n]\n",
        "\n",
        "      else:\n",
        "           self.w = None  \n",
        "\n",
        "  def project(self, X):\n",
        "      if self.w is not None:\n",
        "           return np.dot(X, self.w) + self.b               \n",
        "\n",
        "      else:\n",
        "           y_predict = np.zeros(len(X))\n",
        "           for i in range(len(X)):\n",
        "             s = 0\n",
        "             for a, sv_y, sv in zip(self.a, self.sv_y, self.sv):\n",
        "               s += a * sv_y * self.kernel(X[i], sv)\n",
        "             y_predict[i] = s\n",
        "      return y_predict + self.b  \n",
        "  \n",
        "  def predict(self, X):\n",
        "      return np.sign(self.project(X))\n"
      ],
      "execution_count": 5,
      "outputs": []
    },
    {
      "cell_type": "code",
      "metadata": {
        "colab": {
          "base_uri": "https://localhost:8080/",
          "height": 524
        },
        "id": "WXyfHZBPJdQy",
        "outputId": "2b194dc2-7dc2-43bd-cfa7-d7b56cfc9a12"
      },
      "source": [
        "if __name__ == \"__main__\":\n",
        "  import matplotlib.pyplot as pl\n",
        "\n",
        "  def gen_lin_separable_overlap_data():\n",
        "    \n",
        "    # generate training data in the 2-d case\n",
        "      np.random.seed(47405)\n",
        "      mean1 = np.array([-1, -1])\n",
        "      mean2 = np.array([1, 1])\n",
        "      cov = np.array([[1, 0.25], [0.25, 1]])\n",
        "      X1 = np.random.multivariate_normal(mean1, cov, 200)\n",
        "      y1 = np.ones(len(X1))\n",
        "      X2 = np.random.multivariate_normal(mean2, cov, 200)\n",
        "      y2 = np.ones(len(X2)) * -1\n",
        "      return X1, y1, X2, y2\n",
        "\n",
        "  def split_train(X1, y1, X2, y2):\n",
        "      X1_train = X1[:90]\n",
        "      y1_train = y1[:90]\n",
        "      X2_train = X2[:90]\n",
        "      y2_train = y2[:90]\n",
        "      X_train = np.vstack((X1_train, X2_train))\n",
        "      y_train = np.hstack((y1_train, y2_train))\n",
        "      return X_train, y_train\n",
        "\n",
        "  def split_test(X1, y1, X2, y2):\n",
        "      X1_test = X1[90:]\n",
        "      y1_test = y1[90:]\n",
        "      X2_test = X2[90:]\n",
        "      y2_test = y2[90:]\n",
        "      X_test = np.vstack((X1_test, X2_test))\n",
        "      y_test = np.hstack((y1_test, y2_test))\n",
        "      return X_test, y_test    \n",
        "\n",
        "  def plot_margin(X1_train, X2_train, clf):\n",
        "      def f(x, w, b, c=0):\n",
        "        # given x, return y such that [x,y] in on the line\n",
        "        # w.x + b = c\n",
        "          return (-w[0] * x - b + c) / w[1]            \n",
        "\n",
        "      pl.plot(X1_train[:,0], X1_train[:,1], \"ro\")\n",
        "      pl.plot(X2_train[:,0], X2_train[:,1], \"bo\")\n",
        "      pl.scatter(clf.sv[:,0], clf.sv[:,1], s=100, c=\"g\")\n",
        "      \n",
        "      # w.x + b = 0\n",
        "      a0 = -4; a1 = f(a0, clf.w, clf.b)\n",
        "      b0 = 4; b1 = f(b0, clf.w, clf.b)\n",
        "      pl.plot([a0,b0], [a1,b1], \"k\")\n",
        "      \n",
        "      # w.x + b = 1\n",
        "      a0 = -4; a1 = f(a0, clf.w, clf.b, 1)\n",
        "      b0 = 4; b1 = f(b0, clf.w, clf.b, 1)\n",
        "      pl.plot([a0,b0], [a1,b1], \"k--\")\n",
        "\n",
        "      # w.x + b = -1\n",
        "      a0 = -4; a1 = f(a0, clf.w, clf.b, -1)\n",
        "      b0 = 4; b1 = f(b0, clf.w, clf.b, -1)\n",
        "      pl.plot([a0,b0], [a1,b1], \"k--\")\n",
        "      \n",
        "      pl.axis(\"tight\")\n",
        "      pl.show()\n",
        "\n",
        "\n",
        "  def plot_contour(X1_train, X2_train, clf):\n",
        "      pl.plot(X1_train[:,0], X1_train[:,1], \"ro\")\n",
        "      pl.plot(X2_train[:,0], X2_train[:,1], \"bo\")\n",
        "      pl.scatter(clf.sv[:,0], clf.sv[:,1], s=100, c=\"g\")\n",
        "\n",
        "      X1, X2 = np.meshgrid(np.linspace(-6,6,50), np.linspace(-6,6,50))\n",
        "      X = np.array([[x1, x2] for x1, x2 in zip(np.ravel(X1), np.ravel(X2))])\n",
        "      Z = clf.project(X).reshape(X1.shape)\n",
        "      pl.contour(X1, X2, Z, [0.0], colors='k', linewidths=1, origin='lower')\n",
        "      pl.contour(X1, X2, Z + 1, [0.0], colors='grey', linewidths=1, origin='lower')\n",
        "      pl.contour(X1, X2, Z - 1, [0.0], colors='grey', linewidths=1, origin='lower')\n",
        "\n",
        "      pl.axis(\"tight\")\n",
        "      pl.show()\n",
        "\n",
        "  def test_soft():\n",
        "      X1, y1, X2, y2 = gen_lin_separable_overlap_data()\n",
        "      X_train, y_train = split_train(X1, y1, X2, y2)\n",
        "      X_test, y_test = split_test(X1, y1, X2, y2)\n",
        "\n",
        "      clf = SVM(C=0.1)\n",
        "      clf.fit(X_train, y_train)\n",
        "      y_predict = clf.predict(X_test)\n",
        "      correct = np.sum(y_predict == y_test)\n",
        "      print('{0} out of {1} predictions correct'.format(correct, len(y_predict)))\n",
        "      plot_contour(X_train[y_train==1], X_train[y_train==-1], clf)       \n",
        "\n",
        "\n",
        "  test_soft() "
      ],
      "execution_count": 6,
      "outputs": [
        {
          "output_type": "stream",
          "text": [
            "     pcost       dcost       gap    pres   dres\n",
            " 0: -3.3576e+01 -3.6275e+01  1e+03  3e+01  3e-15\n",
            " 1: -5.8770e+00 -3.3739e+01  8e+01  1e+00  3e-15\n",
            " 2: -3.8808e+00 -1.5305e+01  1e+01  1e-01  9e-16\n",
            " 3: -4.1341e+00 -5.8543e+00  2e+00  1e-02  1e-15\n",
            " 4: -4.5714e+00 -5.0855e+00  6e-01  3e-03  6e-16\n",
            " 5: -4.7135e+00 -4.8525e+00  1e-01  4e-04  6e-16\n",
            " 6: -4.7645e+00 -4.7732e+00  9e-03  6e-06  6e-16\n",
            " 7: -4.7681e+00 -4.7703e+00  2e-03  9e-07  5e-16\n",
            " 8: -4.7691e+00 -4.7693e+00  3e-04  3e-08  5e-16\n",
            " 9: -4.7692e+00 -4.7692e+00  6e-06  7e-10  6e-16\n",
            "10: -4.7692e+00 -4.7692e+00  8e-08  8e-12  6e-16\n",
            "Optimal solution found.\n",
            "57 support vectors out of 180 points\n",
            "202 out of 220 predictions correct\n"
          ],
          "name": "stdout"
        },
        {
          "output_type": "display_data",
          "data": {
            "image/png": "[encoded data removed]",
            "text/plain": [
              "<Figure size 432x288 with 1 Axes>"
            ]
          },
          "metadata": {
            "tags": [],
            "needs_background": "light"
          }
        }
      ]
    },
    {
      "cell_type": "markdown",
      "metadata": {
        "id": "9WDQbrb2JmgI"
      },
      "source": [
        "Different C values were checked and the screenshots are attached in the Report."
      ]
    },
    {
      "cell_type": "markdown",
      "metadata": {
        "id": "ZK6YefU5JqD0"
      },
      "source": [
        "Leave-one-out cross validation error"
      ]
    },
    {
      "cell_type": "code",
      "metadata": {
        "colab": {
          "base_uri": "https://localhost:8080/"
        },
        "id": "r7eLGPkOHH_I",
        "outputId": "968bd49b-5fe3-45bd-e6be-19b2ecf30096"
      },
      "source": [
        "#Leave-one-out cross validation error\n",
        "X = np.array([[1, 2], [3, 4]])\n",
        "y = np.array([1, 2])\n",
        "loo = LeaveOneOut()\n",
        "loo.get_n_splits(X)\n",
        "print(loo)\n",
        "LeaveOneOut()\n",
        "\n",
        "for train_index, test_index in loo.split(X):\n",
        "  print(\"TRAIN:\", train_index, \"TEST:\", test_index)\n",
        "  X_train, X_test = X[train_index], X[test_index]\n",
        "  y_train, y_test = y[train_index], y[test_index]\n",
        "  print(X_train, X_test, y_train, y_test)"
      ],
      "execution_count": 8,
      "outputs": [
        {
          "output_type": "stream",
          "text": [
            "LeaveOneOut()\n",
            "TRAIN: [1] TEST: [0]\n",
            "[[3 4]] [[1 2]] [2] [1]\n",
            "TRAIN: [0] TEST: [1]\n",
            "[[1 2]] [[3 4]] [1] [2]\n"
          ],
          "name": "stdout"
        }
      ]
    }
  ]
}